{
 "cells": [
  {
   "cell_type": "code",
   "execution_count": 1,
   "id": "5469b54f-88c1-4e2e-aeb7-4cdf79987c7f",
   "metadata": {
    "tags": []
   },
   "outputs": [],
   "source": [
    "from googleapiclient.discovery import build\n",
    "import pandas as pd\n",
    "\n",
    "# Substitua YOUR_API_KEY pela sua chave de API\n",
    "api_key = ''\n",
    "video_id = ''  # Substitua VIDEO_ID pelo ID do vídeo do qual deseja extrair os comentários e respostas\n",
    "youtube = build('youtube', 'v3', developerKey=api_key)\n"
   ]
  },
  {
   "cell_type": "code",
   "execution_count": 2,
   "id": "6e5c0d85-0ab9-4efd-910c-36f74b0f805e",
   "metadata": {
    "tags": []
   },
   "outputs": [
    {
     "name": "stdout",
     "output_type": "stream",
     "text": [
      "Comentários e respostas exportados para youtube_comments_with_replies.csv.\n"
     ]
    }
   ],
   "source": [
    "def get_comment_threads(video_id):\n",
    "    comments = []\n",
    "    response = youtube.commentThreads().list(\n",
    "        part='snippet,replies',\n",
    "        videoId=video_id,\n",
    "        maxResults=100,  # API do YouTube permite até 100 resultados por requisição\n",
    "        textFormat='plainText'\n",
    "    ).execute()\n",
    "\n",
    "    while response:\n",
    "        for item in response['items']:\n",
    "            comment = item['snippet']['topLevelComment']['snippet']\n",
    "            comments.append({\n",
    "                'author': comment['authorDisplayName'],\n",
    "                'message': comment['textDisplay'],\n",
    "                'date': comment['publishedAt'],\n",
    "                'reply_to': None  # Indica que é um comentário principal\n",
    "            })\n",
    "            \n",
    "            # Verifica se existem respostas para o comentário\n",
    "            if 'replies' in item and item['replies']['comments']:\n",
    "                for reply in item['replies']['comments']:\n",
    "                    reply_snippet = reply['snippet']\n",
    "                    comments.append({\n",
    "                        'author': reply_snippet['authorDisplayName'],\n",
    "                        'message': reply_snippet['textDisplay'],\n",
    "                        'date': reply_snippet['publishedAt'],\n",
    "                        'reply_to': comment['authorDisplayName']  # Indica a quem a resposta se destina\n",
    "                    })\n",
    "\n",
    "        # Verifica se existe uma próxima página de comentários\n",
    "        if 'nextPageToken' in response:\n",
    "            response = youtube.commentThreads().list(\n",
    "                part='snippet,replies',\n",
    "                videoId=video_id,\n",
    "                pageToken=response['nextPageToken'],\n",
    "                maxResults=100,\n",
    "                textFormat='plainText'\n",
    "            ).execute()\n",
    "        else:\n",
    "            break\n",
    "\n",
    "    return comments\n",
    "\n",
    "# Extrai os comentários e respostas\n",
    "comments_data = get_comment_threads(video_id)\n",
    "\n",
    "# Cria um DataFrame com os dados\n",
    "df = pd.DataFrame(comments_data)\n",
    "\n",
    "# Exporta o DataFrame para um arquivo CSV\n",
    "csv_file_name = 'youtube_comments_with_replies.csv'\n",
    "df.to_csv(csv_file_name, index=False)\n",
    "\n",
    "print(f'Comentários e respostas exportados para {csv_file_name}.')"
   ]
  },
  {
   "cell_type": "code",
   "execution_count": null,
   "id": "d10ddd14-d7f5-49a7-9ec4-7c3b83ecadb0",
   "metadata": {},
   "outputs": [],
   "source": []
  }
 ],
 "metadata": {
  "kernelspec": {
   "display_name": "Python 3 (ipykernel)",
   "language": "python",
   "name": "python3"
  },
  "language_info": {
   "codemirror_mode": {
    "name": "ipython",
    "version": 3
   },
   "file_extension": ".py",
   "mimetype": "text/x-python",
   "name": "python",
   "nbconvert_exporter": "python",
   "pygments_lexer": "ipython3",
   "version": "3.11.5"
  }
 },
 "nbformat": 4,
 "nbformat_minor": 5
}
